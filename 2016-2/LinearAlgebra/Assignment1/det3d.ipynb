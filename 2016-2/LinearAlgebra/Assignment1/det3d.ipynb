{
 "cells": [
  {
   "cell_type": "code",
   "execution_count": 34,
   "metadata": {
    "collapsed": false
   },
   "outputs": [
    {
     "name": "stdout",
     "output_type": "stream",
     "text": [
      "[[1 2 3]\n",
      " [2 3 4]\n",
      " [3 4 6]]\n",
      "\n",
      "det3d :  -1\n"
     ]
    }
   ],
   "source": [
    "import math\n",
    "import numpy as np\n",
    "\n",
    "data = [[1, 2, 3] , [2, 3, 4], [3, 4, 6]]\n",
    "\n",
    "arr = np.array(data)\n",
    "\n",
    "def det2d(v) :\n",
    "    return v[0][0]*v[1][1]-v[0][1]*v[1][0]\n",
    "\n",
    "def det3d(v) : \n",
    "    \n",
    "    det3d = v[0][0]*det2d(v[1:3, 1:3]) - v[1][0]*det2d(np.c_[v[1:3, 0:1], v[1:3, 2:3]]) + v[2][0]*det2d(v[0:2, 0:2])\n",
    "    \n",
    "    return det3d\n",
    "    \n",
    "print (arr)\n",
    "print \"\\ndet3d : \", det3d(arr)"
   ]
  },
  {
   "cell_type": "code",
   "execution_count": null,
   "metadata": {
    "collapsed": true
   },
   "outputs": [],
   "source": []
  }
 ],
 "metadata": {
  "anaconda-cloud": {},
  "kernelspec": {
   "display_name": "Python [conda root]",
   "language": "python",
   "name": "conda-root-py"
  },
  "language_info": {
   "codemirror_mode": {
    "name": "ipython",
    "version": 2
   },
   "file_extension": ".py",
   "mimetype": "text/x-python",
   "name": "python",
   "nbconvert_exporter": "python",
   "pygments_lexer": "ipython2",
   "version": "2.7.12"
  }
 },
 "nbformat": 4,
 "nbformat_minor": 1
}
